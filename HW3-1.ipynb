{
 "cells": [
  {
   "cell_type": "markdown",
   "metadata": {
    "toc": true
   },
   "source": [
    "<h1>Contents<span class=\"tocSkip\"></span></h1>\n",
    "<div class=\"toc\"><ul class=\"toc-item\"><li><span><a href=\"#Using-Python-for-Research-Homework:-Week-3,-Case-Study-1\" data-toc-modified-id=\"Using-Python-for-Research-Homework:-Week-3,-Case-Study-1-1\"><span class=\"toc-item-num\">1&nbsp;&nbsp;</span>Using Python for Research Homework: Week 3, Case Study 1</a></span><ul class=\"toc-item\"><li><ul class=\"toc-item\"><li><span><a href=\"#Exercise-1\" data-toc-modified-id=\"Exercise-1-1.0.1\"><span class=\"toc-item-num\">1.0.1&nbsp;&nbsp;</span>Exercise 1</a></span><ul class=\"toc-item\"><li><span><a href=\"#Instructions\" data-toc-modified-id=\"Instructions-1.0.1.1\"><span class=\"toc-item-num\">1.0.1.1&nbsp;&nbsp;</span>Instructions</a></span></li></ul></li><li><span><a href=\"#Exercise-2\" data-toc-modified-id=\"Exercise-2-1.0.2\"><span class=\"toc-item-num\">1.0.2&nbsp;&nbsp;</span>Exercise 2</a></span><ul class=\"toc-item\"><li><span><a href=\"#Instructions\" data-toc-modified-id=\"Instructions-1.0.2.1\"><span class=\"toc-item-num\">1.0.2.1&nbsp;&nbsp;</span>Instructions</a></span></li></ul></li><li><span><a href=\"#Exercise-3\" data-toc-modified-id=\"Exercise-3-1.0.3\"><span class=\"toc-item-num\">1.0.3&nbsp;&nbsp;</span>Exercise 3</a></span><ul class=\"toc-item\"><li><span><a href=\"#Instructions\" data-toc-modified-id=\"Instructions-1.0.3.1\"><span class=\"toc-item-num\">1.0.3.1&nbsp;&nbsp;</span>Instructions</a></span></li></ul></li><li><span><a href=\"#Exercise-4\" data-toc-modified-id=\"Exercise-4-1.0.4\"><span class=\"toc-item-num\">1.0.4&nbsp;&nbsp;</span>Exercise 4</a></span><ul class=\"toc-item\"><li><span><a href=\"#Instructions\" data-toc-modified-id=\"Instructions-1.0.4.1\"><span class=\"toc-item-num\">1.0.4.1&nbsp;&nbsp;</span>Instructions</a></span></li></ul></li><li><span><a href=\"#Exercise-5\" data-toc-modified-id=\"Exercise-5-1.0.5\"><span class=\"toc-item-num\">1.0.5&nbsp;&nbsp;</span>Exercise 5</a></span><ul class=\"toc-item\"><li><span><a href=\"#Instructions\" data-toc-modified-id=\"Instructions-1.0.5.1\"><span class=\"toc-item-num\">1.0.5.1&nbsp;&nbsp;</span>Instructions</a></span></li></ul></li></ul></li></ul></li></ul></div>"
   ]
  },
  {
   "cell_type": "markdown",
   "metadata": {},
   "source": [
    "# Using Python for Research Homework: Week 3, Case Study 1\n",
    "\n",
    "A cipher is a secret code for a language.  In this case study, we will explore a cipher that is reported by contemporary Greek historians to have been used by Julius Caesar to send secret messages to generals during times of war."
   ]
  },
  {
   "cell_type": "markdown",
   "metadata": {},
   "source": [
    "### Exercise 1\n",
    "\n",
    "A cipher is a secret code for a language. In this case study, we will explore a cipher that is reported by contemporary Greek historians to have been used by Julius Caesar to send secret messages to generals during times of war.\n",
    "\n",
    "The Caesar cipher shifts each letter of a message to another letter in the alphabet located a fixed distance from the original letter. If our encryption key were `1`, we would shift `h` to the next letter `i`, `i` to the next letter `j`, and so on. If we reach the end of the alphabet, which for us is the space character, we simply loop back to `a`. To decode the message, we make a similar shift, except we move the same number of steps backwards in the alphabet.\n",
    "\n",
    "Over the next five exercises, we will create our own Caesar cipher, as well as a message decoder for this cipher. In this exercise, we will define the alphabet used in the cipher.\n",
    "\n",
    "#### Instructions\n",
    "- The `string` library has been imported. Create a string called `alphabet` consisting of the space character `' '` followed by (concatenated with) the lowercase letters. Note that we're only using the lowercase letters in this exercise."
   ]
  },
  {
   "cell_type": "code",
   "execution_count": 34,
   "metadata": {},
   "outputs": [
    {
     "data": {
      "text/plain": [
       "' abcdefghijklmnopqrstuvwxyz'"
      ]
     },
     "execution_count": 34,
     "metadata": {},
     "output_type": "execute_result"
    }
   ],
   "source": [
    "from pprint import pprint\n",
    "import string\n",
    "\n",
    "alphabet = \" \" + string.ascii_lowercase\n",
    "alphabet"
   ]
  },
  {
   "cell_type": "markdown",
   "metadata": {},
   "source": [
    "### Exercise 2 \n",
    "\n",
    "In this exercise, we will define a dictionary that specifies the index of each character in `alphabet`.\n",
    "\n",
    "#### Instructions \n",
    "- `alphabet` has already defined in the last exercise. Create a dictionary with keys consisting of the characters in alphabet and values consisting of the numbers from 0 to 26.\n",
    "- Store this as `positions`."
   ]
  },
  {
   "cell_type": "code",
   "execution_count": 39,
   "metadata": {},
   "outputs": [
    {
     "name": "stdout",
     "output_type": "stream",
     "text": [
      "{' ': 0,\n",
      " 'a': 1,\n",
      " 'b': 2,\n",
      " 'c': 3,\n",
      " 'd': 4,\n",
      " 'e': 5,\n",
      " 'f': 6,\n",
      " 'g': 7,\n",
      " 'h': 8,\n",
      " 'i': 9,\n",
      " 'j': 10,\n",
      " 'k': 11,\n",
      " 'l': 12,\n",
      " 'm': 13,\n",
      " 'n': 14,\n",
      " 'o': 15,\n",
      " 'p': 16,\n",
      " 'q': 17,\n",
      " 'r': 18,\n",
      " 's': 19,\n",
      " 't': 20,\n",
      " 'u': 21,\n",
      " 'v': 22,\n",
      " 'w': 23,\n",
      " 'x': 24,\n",
      " 'y': 25,\n",
      " 'z': 26}\n"
     ]
    }
   ],
   "source": [
    "letters = list(alphabet)\n",
    "ind = list(range(27))\n",
    "positions = dict(zip(letters, ind))\n",
    "pprint(positions, compact=True)"
   ]
  },
  {
   "cell_type": "markdown",
   "metadata": {},
   "source": [
    "### Exercise 3\n",
    "\n",
    "In this exercise, we will encode a message with a Caesar cipher.\n",
    "\n",
    "#### Instructions \n",
    "\n",
    "- `alphabet` and `positions` have already been defined in previous exercises. Use `positions` to create an encoded message based on message where each character in message has been shifted forward by 1 position, as defined by positions.\n",
    "- **Note that you can ensure the result remains within 0-26 using result % 27**\n",
    "- Store this as `encoded_message`."
   ]
  },
  {
   "cell_type": "code",
   "execution_count": 49,
   "metadata": {},
   "outputs": [
    {
     "data": {
      "text/plain": [
       "'ijnzobnfjtdbftbs'"
      ]
     },
     "execution_count": 49,
     "metadata": {},
     "output_type": "execute_result"
    }
   ],
   "source": [
    "message = \"hi my name is caesar\"\n",
    "encoded_message = \"\"\n",
    "\n",
    "for c in message:\n",
    "    if c == \" \":\n",
    "        continue\n",
    "    shift = (positions[c] + 1) % 27\n",
    "    encoded_message += alphabet[shift]\n",
    "\n",
    "encoded_message"
   ]
  },
  {
   "cell_type": "markdown",
   "metadata": {},
   "source": [
    "### Exercise 4\n",
    "\n",
    "In this exercise, we will define a function that encodes a message with any given encryption key.\n",
    "\n",
    "#### Instructions \n",
    "- `alphabet`, `position` and `message` remain defined from previous exercises. Define a function `encoding` that takes a message as input as well as an int encryption key `key` to encode a message with the Caesar cipher by shifting each letter in message by key positions.\n",
    "- Your function should return a string consisting of these encoded letters.\n",
    "- Use `encoding` to encode message using `key = 3` and save the result as `encoded_message`.\n",
    "Print `encoded_message`."
   ]
  },
  {
   "cell_type": "code",
   "execution_count": 59,
   "metadata": {
    "scrolled": true
   },
   "outputs": [
    {
     "name": "stdout",
     "output_type": "stream",
     "text": [
      "k\n",
      "l\n",
      "p\n",
      "a\n",
      "q\n",
      "d\n",
      "p\n",
      "h\n",
      "l\n",
      "v\n",
      "f\n",
      "d\n",
      "h\n",
      "v\n",
      "d\n",
      "u\n"
     ]
    },
    {
     "data": {
      "text/plain": [
       "'klpaqdphlvfdhvdu'"
      ]
     },
     "execution_count": 59,
     "metadata": {},
     "output_type": "execute_result"
    }
   ],
   "source": [
    "def caesar(message, key):\n",
    "    encoded_message = \"\"\n",
    "    for c in message:\n",
    "        if c == \" \":\n",
    "            continue\n",
    "        shift = (positions[c] + key) % 27\n",
    "        print(alphabet[shift])\n",
    "        encoded_message += alphabet[shift]\n",
    "    return encoded_message\n",
    "\n",
    "message = \"hi my name is caesar\"\n",
    "encryption_key = 3\n",
    "\n",
    "caesar(message, encryption_key)"
   ]
  },
  {
   "cell_type": "markdown",
   "metadata": {},
   "source": [
    "### Exercise 5\n",
    "\n",
    "In this exercise, we will decode an encoded message.\n",
    "\n",
    "#### Instructions \n",
    "- Use `encoding` to decode `encoded_message`.\n",
    "- Store your encoded message as `decoded_message`.\n",
    "- Print `decoded_message`. Does this recover your original message?"
   ]
  },
  {
   "cell_type": "code",
   "execution_count": 60,
   "metadata": {},
   "outputs": [
    {
     "name": "stdout",
     "output_type": "stream",
     "text": [
      "h\n",
      "i\n",
      " \n",
      "m\n",
      "y\n",
      " \n",
      "n\n",
      "a\n",
      "m\n",
      "e\n",
      " \n",
      "i\n",
      "s\n",
      " \n",
      "c\n",
      "a\n",
      "e\n",
      "s\n",
      "a\n",
      "r\n"
     ]
    },
    {
     "data": {
      "text/plain": [
       "'hi my name is caesar'"
      ]
     },
     "execution_count": 60,
     "metadata": {},
     "output_type": "execute_result"
    }
   ],
   "source": [
    "encoded_message = \"klcpacqdphclvcfdhvdu\"\n",
    "encryption_key = -3\n",
    "caesar(encoded_message, encryption_key)"
   ]
  }
 ],
 "metadata": {
  "kernelspec": {
   "display_name": "Python 3",
   "language": "python",
   "name": "python3"
  },
  "language_info": {
   "codemirror_mode": {
    "name": "ipython",
    "version": 3
   },
   "file_extension": ".py",
   "mimetype": "text/x-python",
   "name": "python",
   "nbconvert_exporter": "python",
   "pygments_lexer": "ipython3",
   "version": "3.7.7"
  },
  "toc": {
   "base_numbering": 1,
   "nav_menu": {},
   "number_sections": true,
   "sideBar": true,
   "skip_h1_title": false,
   "title_cell": "Contents",
   "title_sidebar": "Contents",
   "toc_cell": true,
   "toc_position": {},
   "toc_section_display": true,
   "toc_window_display": false
  }
 },
 "nbformat": 4,
 "nbformat_minor": 2
}
